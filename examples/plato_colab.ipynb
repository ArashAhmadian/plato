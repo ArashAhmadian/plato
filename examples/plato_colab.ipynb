{
  "nbformat": 4,
  "nbformat_minor": 0,
  "metadata": {
    "colab": {
      "name": "plato-colab.ipynb",
      "provenance": [],
      "collapsed_sections": [],
      "toc_visible": true
    },
    "kernelspec": {
      "name": "python3",
      "display_name": "Python 3"
    },
    "language_info": {
      "name": "python"
    },
    "accelerator": "GPU"
  },
  "cells": [
    {
      "cell_type": "markdown",
      "metadata": {
        "id": "olul0mnbnLoL"
      },
      "source": [
        "# Running Plato on Google Colaboratory\n",
        "\n",
        "## 1. Activate GPU support\n",
        "\n",
        "To activate GPU support, click on `Runtime > Change runtime type` in the notebook menu and choose `GPU` as the hardware accelerator. To check whether the GPU is available for computation, we import the deep learning framework [PyTorch](https://pytorch.org/):"
      ]
    },
    {
      "cell_type": "code",
      "metadata": {
        "id": "2RB_ZJrZmugO"
      },
      "source": [
        "import torch\n",
        "torch.cuda.is_available()"
      ],
      "execution_count": null,
      "outputs": []
    },
    {
      "cell_type": "markdown",
      "metadata": {
        "id": "5xlN-jMfoEpp"
      },
      "source": [
        "If successful, the output of the cell above should print `True`.\n",
        "\n",
        "## 2. Installing Plato with PyTorch\n",
        "\n",
        "Clone the Plato private repository. A safer option here is to create a [personal access token](https://github.com/settings/tokens) and select only privileges that your application needs. Below is the clone command. Please change it to your own username and token before running it and do not forget to change it back before sharing this notebook with others."
      ]
    },
    {
      "cell_type": "code",
      "metadata": {
        "id": "-3uaS51lSPaj"
      },
      "source": [
        "!git clone https://<username>:<git_token>@github.com/TL-System/plato.git"
      ],
      "execution_count": null,
      "outputs": []
    },
    {
      "cell_type": "markdown",
      "metadata": {
        "id": "barbbjpfZGy-"
      },
      "source": [
        "Install required packages that are not installed in colab:"
      ]
    },
    {
      "cell_type": "code",
      "metadata": {
        "id": "tCUSaI9fXAjB"
      },
      "source": [
        "!pip install wandb\n",
        "!pip install datasets\n",
        "!pip install -U PyYAML\n",
        "!pip install websockets"
      ],
      "execution_count": null,
      "outputs": []
    },
    {
      "cell_type": "markdown",
      "metadata": {
        "id": "YKRnIwDPZd9C"
      },
      "source": [
        "## 3. Running Plato\n",
        "\n",
        "To start a federated learning training workload, run `run` from the Plato repository's root directory. For example:"
      ]
    },
    {
      "cell_type": "code",
      "metadata": {
        "id": "ivm8dSigaV7Y"
      },
      "source": [
        "!plato/run --config=plato/configs/MNIST/colab_sample.yml"
      ],
      "execution_count": null,
      "outputs": []
    },
    {
      "cell_type": "markdown",
      "metadata": {
        "id": "Jv1jzv0Ynd17"
      },
      "source": [
        "This `colab_sample.yml` is a sample configuration files designed for running Plato on Google Colaboratory. Other configuration files under `plato/configs/` could also be used here, but need to change server's address from `localhost` to `0.0.0.0` to avoid address binding errors."
      ]
    }
  ]
}